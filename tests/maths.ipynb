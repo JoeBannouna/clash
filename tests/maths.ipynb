{
 "cells": [
  {
   "cell_type": "markdown",
   "metadata": {},
   "source": [
    "### Differentiating T(x)\n",
    "\n",
    "## $\\frac{dT(x)}{dx} = \\frac{d}{dx} \\left[ \\frac{ \\left( \\frac{0.89 E_0 - 1.2}{E_0 + 10^x} \\right)^s }{ \\left( 1 + 10^{-4} s \\times 10^x \\right)^2 } \\right] $"
   ]
  },
  {
   "cell_type": "markdown",
   "metadata": {},
   "source": [
    "### $\\frac{dT(x)}{dx} = \\frac{ \\frac{d}{dx} \\left[ \\left( \\frac{0.89 E_0 - 1.2}{E_0 + 10^x} \\right)^s \\right] \\left( 1 + 10^{-4} s \\times 10^x \\right)^2 - \\left( \\frac{0.89 E_0 - 1.2}{E_0 + 10^x} \\right)^s \\frac{d}{dx} \\left[ \\left( 1 + 10^{-4} s \\times 10^x \\right)^2 \\right] }{ \\left( 1 + 10^{-4} s \\times 10^x \\right)^4 } $"
   ]
  },
  {
   "cell_type": "markdown",
   "metadata": {},
   "source": [
    "#### $\\frac{d}{dx} \\left[ \\left( \\frac{0.89 E_0 - 1.2}{E_0 + 10^x} \\right)^s \\right] = \\frac{d}{dx} \\left[ \\left( (0.89 E_0 - 1.2) (E_0 + 10^x)^{-1} \\right)^s \\right] = s \\left( \\frac{0.89 E_0 - 1.2}{E_0 + 10^x} \\right)^{s-1} \\frac{d}{dx} \\left[ (0.89 E_0 - 1.2)(E_0 + 10^x)^{-1} \\right]$\n",
    "#### $ = s \\left( \\frac{0.89 E_0 - 1.2}{E_0 + 10^x} \\right)^{s-1} (0.89 E_0 - 1.2) \\frac{d}{dx} \\left[(E_0 + 10^x)^{-1} \\right]$\n",
    "#### $ = s \\left( \\frac{0.89 E_0 - 1.2}{E_0 + 10^x} \\right)^{s-1} (0.89 E_0 - 1.2) (-1) (E_0 + 10^x)^{-2} \\frac{d}{dx}[E_0 + 10^x]$\n",
    "#### $ = s \\left( \\frac{0.89 E_0 - 1.2}{E_0 + 10^x} \\right)^{s-1} (0.89 E_0 - 1.2) (-1) (E_0 + 10^x)^{-2} \\frac{d}{dx}[10^x]$\n",
    "#### $ = s \\left( \\frac{0.89 E_0 - 1.2}{E_0 + 10^x} \\right)^{s-1} (-1) (0.89 E_0 - 1.2) (E_0 + 10^x)^{-2} 10^x \\ln{10}$\n",
    "#### $ = s \\left( \\frac{0.89 E_0 - 1.2}{E_0 + 10^x} \\right)^{s-1} (-1) \\left( \\frac{0.89 E_0 - 1.2}{E_0 + 10^x} \\right) (E_0 + 10^x)^{-1} 10^x \\ln{10}$\n",
    "#### $ = s \\left( \\frac{0.89 E_0 - 1.2}{E_0 + 10^x} \\right)^{s} (-1) (E_0 + 10^x)^{-1} 10^x \\ln{10}$\n",
    "#### $ = s \\left( \\frac{0.89 E_0 - 1.2}{E_0 + 10^x} \\right)^{s} (-10^x \\ln{10}) (E_0 + 10^x)^{-1} $\n",
    "#### $ \\frac{d}{dx} \\left[ \\left( \\frac{0.89 E_0 - 1.2}{E_0 + 10^x} \\right)^s \\right] = -s \\left( \\frac{10^x \\ln{10}}{E_0 + 10^x} \\right) \\left( \\frac{0.89 E_0 - 1.2}{E_0 + 10^x} \\right)^{s}$"
   ]
  },
  {
   "cell_type": "markdown",
   "metadata": {},
   "source": [
    "#### $\\frac{d}{dx} \\left[ \\left( 1 + 10^{-4} s \\times 10^x \\right)^2 \\right] = 2 \\left( 1 + 10^{-4} s \\times 10^x \\right) \\frac{d}{dx} \\left[ 1 + 10^{-4} s \\times 10^x \\right]$\n",
    "#### $\\frac{d}{dx} \\left[ \\left( 1 + 10^{-4} s \\times 10^x \\right)^2 \\right] = 2 \\left( 1 + 10^{-4} s \\times 10^x \\right) (10^{-4} s) \\frac{d}{dx} \\left[ 10^x \\right]$\n",
    "#### $\\frac{d}{dx} \\left[ \\left( 1 + 10^{-4} s \\times 10^x \\right)^2 \\right] = 2 \\left( 1 + 10^{-4} s \\times 10^x \\right) (10^{-4} s) (10^x \\ln{10})$\n",
    "#### $\\frac{d}{dx} \\left[ \\left( 1 + 10^{-4} s \\times 10^x \\right)^2 \\right] = 2s \\left( 1 + 10^{x-4} s \\right) (10^{x-4} \\ln{10})$"
   ]
  },
  {
   "cell_type": "markdown",
   "metadata": {},
   "source": [
    "### $\\frac{dT(x)}{dx} = \\frac{ \\frac{d}{dx} \\left[ \\left( \\frac{0.89 E_0 - 1.2}{E_0 + 10^x} \\right)^s \\right] \\left( 1 + 10^{-4} s \\times 10^x \\right)^2 - \\left( \\frac{0.89 E_0 - 1.2}{E_0 + 10^x} \\right)^s \\frac{d}{dx} \\left[ \\left( 1 + 10^{-4} s \\times 10^x \\right)^2 \\right] }{ \\left( 1 + 10^{-4} s \\times 10^x \\right)^4 } $\n",
    "\n",
    "### $\\frac{dT(x)}{dx} = \\frac{ -s \\left( \\frac{10^x \\ln{10}}{E_0 + 10^x} \\right) \\left( \\frac{0.89 E_0 - 1.2}{E_0 + 10^x} \\right)^{s} \\left( 1 + 10^{x-4} s \\right)^2 - \\left( \\frac{0.89 E_0 - 1.2}{E_0 + 10^x} \\right)^s 2s \\left( 1 + 10^{x-4} s \\right) (10^{x-4} \\ln{10}) }{ \\left( 1 + 10^{-4} s \\times 10^x \\right)^4 } $\n",
    "\n",
    "\n",
    "### $\\frac{dT(x)}{dx} = \\frac {\\left( \\frac{0.89 E_0 - 1.2}{E_0 + 10^x} \\right)^{s}} {\\left( 1 + 10^{-4} s \\times 10^x \\right)^2} \\frac{ -s \\left( \\frac{10^x \\ln{10}}{E_0 + 10^x} \\right) \\left( 1 + 10^{x-4} s \\right)^2 - 2s \\left( 1 + 10^{x-4} s \\right) (10^{x-4} \\ln{10}) }{ \\left( 1 + 10^{-4} s \\times 10^x \\right)^2 } $\n",
    "\n",
    "### $\\frac{dT(x)}{dx} = T(x) \\left[ -s \\left( \\frac{10^x \\ln{10}}{E_0 + 10^x} \\right) - 2s \\left( 1 + 10^{x-4} s \\right)^{-1} (10^{x-4} \\ln{10}) \\right]$\n",
    "\n",
    "### $\\frac{dT(x)}{dx} = T(x) \\left[ -s \\left( \\frac{10^x \\ln{10}}{E_0 + 10^x} \\right) - 2s \\left( \\frac{10^{x-4} \\ln{10}}{1 + 10^{x-4} s} \\right) \\right]$\n",
    "\n",
    "### $\\frac{dT(x)}{dx} = T(x) \\left[ -s \\left( \\frac{10^x \\ln{10}}{E_0 + 10^x} \\right) - 2s 10^{-4} \\left( \\frac{10^x \\ln{10}}{1 + 10^{x-4} s} \\right) \\right]$\n",
    "\n",
    "### $\\frac{dT(x)}{dx} = - (s10^x \\ln{10}) T(x) \\left[ \\left( \\frac{1}{E_0 + 10^x} \\right) + 2 \\left( \\frac{10^{-4}}{1 + 10^{x-4} s} \\right) \\right]$\n",
    "\n",
    "### $\\frac{dT(x)}{dx} = - (s10^x \\ln{10}) T(x) \\left[ \\left( \\frac{1}{E_0 + 10^x} \\right) + 2 \\left( \\frac{1}{10^4 + 10^x s} \\right) \\right]$"
   ]
  }
 ],
 "metadata": {
  "language_info": {
   "name": "python"
  }
 },
 "nbformat": 4,
 "nbformat_minor": 2
}
