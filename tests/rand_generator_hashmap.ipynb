{
 "cells": [
  {
   "cell_type": "code",
   "execution_count": 1,
   "metadata": {},
   "outputs": [],
   "source": [
    "import numpy as np\n",
    "import matplotlib.pyplot as plt\n",
    "import scipy.integrate as integrate\n",
    "from scipy.optimize import root_scalar"
   ]
  },
  {
   "cell_type": "code",
   "execution_count": 2,
   "metadata": {},
   "outputs": [],
   "source": [
    "def E_0(s):\n",
    "  return 26 if s < 0.4 else 44 - 17 * (s - 1.46)**2\n",
    "  \n",
    "def T(E, s):\n",
    "  return ((0.89*E_0(s) - 1.2)/(E_0(s) + E))**s * (1 + 10**(-4) * s * E)**(-2)\n",
    "\n",
    "def F(x, s):\n",
    "  return ((0.89*E_0(s) - 1.2)/(E_0(s) + 10**x))**s * (1 + 10**(-4) * s * 10**x)**(-2)\n",
    "\n",
    "def FDer(x, s):\n",
    "  return F(x, s) * -s * ((E_0(s) + 10**x)**(-1) + 2e-4 * (1 + 1e-4 * s * 10**x)**(-1))"
   ]
  },
  {
   "cell_type": "code",
   "execution_count": 44,
   "metadata": {},
   "outputs": [],
   "source": [
    "class randgen():\n",
    "    def __init__(self, s, un_normalized_pdf, a=1, b=5):\n",
    "        A = 1/integrate.quad(lambda x: un_normalized_pdf(x, s), 1, 100)[0]\n",
    "        self.norm = A\n",
    "        self.cdf_cache = {1: 0}  # Store testcdf(1) = 0 initially\n",
    "        self.HASH_RANGE = 10000000\n",
    "\n",
    "        xs = np.linspace(a, b, self.HASH_RANGE)\n",
    "        self.pdf_vals = A*un_normalized_pdf(xs, s)\n",
    "        self.cdf_vals = integrate.cumulative_trapezoid(self.pdf_vals, xs, initial=0)\n",
    "\n",
    "    # turns x into index\n",
    "    def hashmap(self, x, HASH_RANGE):\n",
    "        return np.asarray( (x-1)/(5-1) * (HASH_RANGE-1) + 1 , dtype=\"int\")\n",
    "\n",
    "    # turns index into x\n",
    "    def reverse_hashmap(self, index, HASH_RANGE):\n",
    "        return (index-1)*(5-1) / (HASH_RANGE-1) + 1\n",
    "\n",
    "    def cdf(self, x):\n",
    "        return self.cdf_vals[self.hashmap(x, self.HASH_RANGE)-1]\n",
    "\n",
    "    def generate(self, num=1):\n",
    "        res = []\n",
    "        r_vals = np.random.rand(num)\n",
    "        for r in r_vals:\n",
    "            res.append(root_scalar(lambda x: self.cdf(x) - r, method='brentq', bracket=[1, 5], x0=2, xtol=1.49012e-08).root)\n",
    "        return res"
   ]
  },
  {
   "cell_type": "code",
   "execution_count": 45,
   "metadata": {},
   "outputs": [],
   "source": [
    "rg = randgen(s=1.2, un_normalized_pdf=FDer)"
   ]
  },
  {
   "cell_type": "code",
   "execution_count": 49,
   "metadata": {},
   "outputs": [],
   "source": [
    "vals = rg.generate(100000)"
   ]
  },
  {
   "cell_type": "code",
   "execution_count": null,
   "metadata": {},
   "outputs": [],
   "source": [
    "HASH_RANGE = 10000000\n",
    "A = 1/integrate.quad(lambda x: FDer(x, 1.2), 1, 100)[0]\n",
    "\n",
    "cdf_cache = {1: 0}  # Store testcdf(1) = 0 initially\n",
    "\n",
    "# turns x into index\n",
    "def hashmap(x):\n",
    "    return np.asarray( (x-1)/(5-1) * (HASH_RANGE-1) + 1 , dtype=\"int\")\n",
    "\n",
    "# turns index into x\n",
    "def reverse_hashmap(x):\n",
    "    return (x-1)*(5-1) / (HASH_RANGE-1) + 1\n",
    "\n",
    "x = np.linspace(1, 5, HASH_RANGE)\n",
    "pdf = A*FDer(x, 1.2)\n",
    "\n",
    "cdf_vals = integrate.cumulative_trapezoid(pdf, x, initial=0)\n",
    "def cdf_func(x):\n",
    "    return cdf_vals[hashmap(x)-1]\n"
   ]
  },
  {
   "cell_type": "code",
   "execution_count": null,
   "metadata": {},
   "outputs": [],
   "source": [
    "def randGen(num=1):\n",
    "  res = []\n",
    "  r_vals = np.random.rand(num)\n",
    "  for r in r_vals:\n",
    "    res.append(root_scalar(lambda x: cdf_func(x) - r, method='brentq', bracket=[1, 4], x0=2, xtol=1.49012e-08).root)\n",
    "\n",
    "  return res"
   ]
  },
  {
   "cell_type": "code",
   "execution_count": 33,
   "metadata": {},
   "outputs": [],
   "source": [
    "vals = randGen(100000)"
   ]
  },
  {
   "cell_type": "code",
   "execution_count": 35,
   "metadata": {},
   "outputs": [
    {
     "data": {
      "image/png": "[encoded data removed]",
      "text/plain": [
       "<Figure size 640x480 with 1 Axes>"
      ]
     },
     "metadata": {},
     "output_type": "display_data"
    }
   ],
   "source": [
    "plt.hist(vals, density=True)\n",
    "esl = np.linspace(1, 4, 800)\n",
    "plt.plot(esl, A*FDer(esl, 1.2), 'r.')\n",
    "plt.yscale('log')"
   ]
  }
 ],
 "metadata": {
  "kernelspec": {
   "display_name": "Python 3",
   "language": "python",
   "name": "python3"
  },
  "language_info": {
   "codemirror_mode": {
    "name": "ipython",
    "version": 3
   },
   "file_extension": ".py",
   "mimetype": "text/x-python",
   "name": "python",
   "nbconvert_exporter": "python",
   "pygments_lexer": "ipython3",
   "version": "3.13.2"
  }
 },
 "nbformat": 4,
 "nbformat_minor": 2
}
